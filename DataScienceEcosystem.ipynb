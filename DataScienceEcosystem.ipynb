{
 "cells": [
  {
   "cell_type": "markdown",
   "id": "bdd93fb6-95c6-4b9b-be7f-c15223d5dbce",
   "metadata": {},
   "source": [
    "# Data Science Tools and Ecosystem"
   ]
  },
  {
   "cell_type": "markdown",
   "id": "7eb4f294-53d0-4347-b5ac-9bfcb19be669",
   "metadata": {},
   "source": [
    "## In this notebook, Data Science Tools and Ecosystem are summarized."
   ]
  },
  {
   "cell_type": "markdown",
   "id": "3013a879-e775-4711-b3f9-7a9457ece1a6",
   "metadata": {},
   "source": [
    "**Objectives:**\n",
    "\n",
    "- List popular languages for Data Science  \n",
    "- Identify commonly used libraries and tools in Data Science  \n",
    "- Create and format markdown cells in Jupyter Notebook  \n",
    "- Perform basic arithmetic operations in Python  \n",
    "- Convert units using Python code (e.g., minutes to hours)\n"
   ]
  },
  {
   "cell_type": "markdown",
   "id": "4e3af8a6-7a1a-4bd1-a9d9-05ba11f89e24",
   "metadata": {},
   "source": [
    "### Some of the popular languages that Data Scientists use are:\n",
    "1. Python\n",
    "2. R\n",
    "3. SQL\n",
    "4. Julia"
   ]
  },
  {
   "cell_type": "markdown",
   "id": "fcbbe9b2-b862-4863-a38b-84587e26c818",
   "metadata": {},
   "source": [
    "### Some of the commonly used libraries used by Data Scientists include:\n",
    "1. Numpy\n",
    "2. Pandas\n",
    "3. Scikit-learn\n",
    "4. Keras\n",
    "5. Tensorflow\n",
    "6. ggplot\n",
    "7. dplyr"
   ]
  },
  {
   "cell_type": "markdown",
   "id": "59778758-7a33-4b91-8db6-8e3a6c33494d",
   "metadata": {},
   "source": [
    "| Data Science Tools        |\n",
    "|---------------------------|\n",
    "| Jupyter Notebook          |\n",
    "| RStudio                   |\n",
    "| Apache Zeppelin           |"
   ]
  },
  {
   "cell_type": "markdown",
   "id": "98c51c17-1f5e-4e1f-836d-4751c969ddea",
   "metadata": {},
   "source": [
    "### Below are a few examples of evaluating arithmetic expressions in Python"
   ]
  },
  {
   "cell_type": "code",
   "execution_count": 2,
   "id": "76d33f39-e5ca-42e6-8eda-0bec4a884a23",
   "metadata": {},
   "outputs": [
    {
     "data": {
      "text/plain": [
       "26496.0"
      ]
     },
     "execution_count": 2,
     "metadata": {},
     "output_type": "execute_result"
    }
   ],
   "source": [
    "# This is a simple arithmetic expression to multiply then add integers\n",
    "(3.14 * 6400) + 6400\n"
   ]
  },
  {
   "cell_type": "code",
   "execution_count": 3,
   "id": "bc32c79d-4506-47e3-9640-ac2ff93ca19b",
   "metadata": {},
   "outputs": [
    {
     "data": {
      "text/plain": [
       "3.3333333333333335"
      ]
     },
     "execution_count": 3,
     "metadata": {},
     "output_type": "execute_result"
    }
   ],
   "source": [
    "# This will convert 200 minutes to hours by dividing by 60\n",
    "200 / 60\n"
   ]
  },
  {
   "cell_type": "markdown",
   "id": "75b07880-9f1d-4416-9a28-6eb9fd91f930",
   "metadata": {},
   "source": [
    "## Author\n",
    "\n",
    "Himanshu Tiwari\n"
   ]
  },
  {
   "cell_type": "code",
   "execution_count": null,
   "id": "e680f761-c3ed-4678-87bc-44244025bbb2",
   "metadata": {},
   "outputs": [],
   "source": []
  }
 ],
 "metadata": {
  "kernelspec": {
   "display_name": "Python 3 (ipykernel)",
   "language": "python",
   "name": "python3"
  },
  "language_info": {
   "codemirror_mode": {
    "name": "ipython",
    "version": 3
   },
   "file_extension": ".py",
   "mimetype": "text/x-python",
   "name": "python",
   "nbconvert_exporter": "python",
   "pygments_lexer": "ipython3",
   "version": "3.12.8"
  }
 },
 "nbformat": 4,
 "nbformat_minor": 5
}
